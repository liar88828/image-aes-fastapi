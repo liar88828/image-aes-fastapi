{
 "cells": [
  {
   "cell_type": "code",
   "id": "initial_id",
   "metadata": {
    "collapsed": true,
    "ExecuteTime": {
     "end_time": "2025-01-09T07:20:35.629831Z",
     "start_time": "2025-01-09T07:20:35.612146Z"
    }
   },
   "source": [
    "import os\n",
    "import struct\n",
    "\n",
    "# Salsa20 constants\n",
    "ROUNDS = 20\n",
    "SIGMA = b\"expand 32-byte k\"\n",
    "\n",
    "\n",
    "def salsa20_core(key, nonce):\n",
    "    # Initialize state\n",
    "    state = [\n",
    "                struct.unpack(\"<I\", SIGMA[i * 4:i * 4 + 4])[0] for i in range(4)\n",
    "            ] + [\n",
    "                struct.unpack(\"<I\", key[i * 4:i * 4 + 4])[0] for i in range(8)\n",
    "            ] + [\n",
    "                struct.unpack(\"<I\", nonce[i * 4:i * 4 + 4])[0] for i in range(3)\n",
    "            ] + [0]\n",
    "\n",
    "    x = state[:]\n",
    "\n",
    "    for _ in range(ROUNDS // 2):\n",
    "        for i in range(0, 16, 4):\n",
    "            x[i] += x[i + 1]\n",
    "            x[i + 3] ^= x[i]\n",
    "            x[i + 2] += x[i + 3]\n",
    "            x[i + 1] ^= x[i + 2]\n",
    "\n",
    "    return [(x[i] + state[i]) & 0xFFFFFFFF for i in range(16)]\n",
    "\n",
    "\n",
    "def salsa20_encrypt(plaintext, key, nonce):\n",
    "    keystream = bytearray()\n",
    "    key_schedule = salsa20_core(key, nonce)\n",
    "\n",
    "    for i in range(len(plaintext)):\n",
    "        if i % 64 == 0:\n",
    "            key_schedule = salsa20_core(key, nonce)\n",
    "            nonce = (struct.unpack(\"<I\", nonce[:4])[0] + 1).to_bytes(4, 'little') + nonce[4:]\n",
    "\n",
    "        keystream.append(plaintext[i] ^ key_schedule[i % 64])\n",
    "\n",
    "    return bytes(keystream)\n",
    "\n"
   ],
   "outputs": [],
   "execution_count": 8
  },
  {
   "metadata": {
    "ExecuteTime": {
     "end_time": "2025-01-09T07:20:49.434872Z",
     "start_time": "2025-01-09T07:20:49.424715Z"
    }
   },
   "cell_type": "code",
   "source": [
    "\n",
    "def main():\n",
    "    key = os.urandom(32)  # Random 32-byte key\n",
    "    nonce = os.urandom(8)  # Random 8-byte nonce\n",
    "    plaintext = b\"Hello, this is a secret message!\"\n",
    "\n",
    "    ciphertext = salsa20_encrypt(plaintext, key, nonce)\n",
    "    print(\"Ciphertext:\", ciphertext)\n",
    "\n",
    "    decrypted = salsa20_encrypt(ciphertext, key, nonce)\n",
    "    print(\"Decrypted text:\", decrypted.decode())\n"
   ],
   "id": "60835702f6f6f3cf",
   "outputs": [],
   "execution_count": 10
  },
  {
   "metadata": {
    "ExecuteTime": {
     "end_time": "2025-01-09T07:20:51.130621Z",
     "start_time": "2025-01-09T07:20:51.051072Z"
    }
   },
   "cell_type": "code",
   "source": "main()",
   "id": "afea49e5fd8220a8",
   "outputs": [
    {
     "ename": "error",
     "evalue": "unpack requires a buffer of 4 bytes",
     "output_type": "error",
     "traceback": [
      "\u001B[1;31m---------------------------------------------------------------------------\u001B[0m",
      "\u001B[1;31merror\u001B[0m                                     Traceback (most recent call last)",
      "Cell \u001B[1;32mIn[11], line 1\u001B[0m\n\u001B[1;32m----> 1\u001B[0m \u001B[43mmain\u001B[49m\u001B[43m(\u001B[49m\u001B[43m)\u001B[49m\n",
      "Cell \u001B[1;32mIn[10], line 6\u001B[0m, in \u001B[0;36mmain\u001B[1;34m()\u001B[0m\n\u001B[0;32m      3\u001B[0m nonce \u001B[38;5;241m=\u001B[39m os\u001B[38;5;241m.\u001B[39murandom(\u001B[38;5;241m8\u001B[39m)  \u001B[38;5;66;03m# Random 8-byte nonce\u001B[39;00m\n\u001B[0;32m      4\u001B[0m plaintext \u001B[38;5;241m=\u001B[39m \u001B[38;5;124mb\u001B[39m\u001B[38;5;124m\"\u001B[39m\u001B[38;5;124mHello, this is a secret message!\u001B[39m\u001B[38;5;124m\"\u001B[39m\n\u001B[1;32m----> 6\u001B[0m ciphertext \u001B[38;5;241m=\u001B[39m \u001B[43msalsa20_encrypt\u001B[49m\u001B[43m(\u001B[49m\u001B[43mplaintext\u001B[49m\u001B[43m,\u001B[49m\u001B[43m \u001B[49m\u001B[43mkey\u001B[49m\u001B[43m,\u001B[49m\u001B[43m \u001B[49m\u001B[43mnonce\u001B[49m\u001B[43m)\u001B[49m\n\u001B[0;32m      7\u001B[0m \u001B[38;5;28mprint\u001B[39m(\u001B[38;5;124m\"\u001B[39m\u001B[38;5;124mCiphertext:\u001B[39m\u001B[38;5;124m\"\u001B[39m, ciphertext)\n\u001B[0;32m      9\u001B[0m decrypted \u001B[38;5;241m=\u001B[39m salsa20_encrypt(ciphertext, key, nonce)\n",
      "Cell \u001B[1;32mIn[8], line 33\u001B[0m, in \u001B[0;36msalsa20_encrypt\u001B[1;34m(plaintext, key, nonce)\u001B[0m\n\u001B[0;32m     31\u001B[0m \u001B[38;5;28;01mdef\u001B[39;00m \u001B[38;5;21msalsa20_encrypt\u001B[39m(plaintext, key, nonce):\n\u001B[0;32m     32\u001B[0m     keystream \u001B[38;5;241m=\u001B[39m \u001B[38;5;28mbytearray\u001B[39m()\n\u001B[1;32m---> 33\u001B[0m     key_schedule \u001B[38;5;241m=\u001B[39m \u001B[43msalsa20_core\u001B[49m\u001B[43m(\u001B[49m\u001B[43mkey\u001B[49m\u001B[43m,\u001B[49m\u001B[43m \u001B[49m\u001B[43mnonce\u001B[49m\u001B[43m)\u001B[49m\n\u001B[0;32m     35\u001B[0m     \u001B[38;5;28;01mfor\u001B[39;00m i \u001B[38;5;129;01min\u001B[39;00m \u001B[38;5;28mrange\u001B[39m(\u001B[38;5;28mlen\u001B[39m(plaintext)):\n\u001B[0;32m     36\u001B[0m         \u001B[38;5;28;01mif\u001B[39;00m i \u001B[38;5;241m%\u001B[39m \u001B[38;5;241m64\u001B[39m \u001B[38;5;241m==\u001B[39m \u001B[38;5;241m0\u001B[39m:\n",
      "Cell \u001B[1;32mIn[8], line 16\u001B[0m, in \u001B[0;36msalsa20_core\u001B[1;34m(key, nonce)\u001B[0m\n\u001B[0;32m      9\u001B[0m \u001B[38;5;28;01mdef\u001B[39;00m \u001B[38;5;21msalsa20_core\u001B[39m(key, nonce):\n\u001B[0;32m     10\u001B[0m     \u001B[38;5;66;03m# Initialize state\u001B[39;00m\n\u001B[0;32m     11\u001B[0m     state \u001B[38;5;241m=\u001B[39m [\n\u001B[0;32m     12\u001B[0m                 struct\u001B[38;5;241m.\u001B[39munpack(\u001B[38;5;124m\"\u001B[39m\u001B[38;5;124m<I\u001B[39m\u001B[38;5;124m\"\u001B[39m, SIGMA[i \u001B[38;5;241m*\u001B[39m \u001B[38;5;241m4\u001B[39m:i \u001B[38;5;241m*\u001B[39m \u001B[38;5;241m4\u001B[39m \u001B[38;5;241m+\u001B[39m \u001B[38;5;241m4\u001B[39m])[\u001B[38;5;241m0\u001B[39m] \u001B[38;5;28;01mfor\u001B[39;00m i \u001B[38;5;129;01min\u001B[39;00m \u001B[38;5;28mrange\u001B[39m(\u001B[38;5;241m4\u001B[39m)\n\u001B[0;32m     13\u001B[0m             ] \u001B[38;5;241m+\u001B[39m [\n\u001B[0;32m     14\u001B[0m                 struct\u001B[38;5;241m.\u001B[39munpack(\u001B[38;5;124m\"\u001B[39m\u001B[38;5;124m<I\u001B[39m\u001B[38;5;124m\"\u001B[39m, key[i \u001B[38;5;241m*\u001B[39m \u001B[38;5;241m4\u001B[39m:i \u001B[38;5;241m*\u001B[39m \u001B[38;5;241m4\u001B[39m \u001B[38;5;241m+\u001B[39m \u001B[38;5;241m4\u001B[39m])[\u001B[38;5;241m0\u001B[39m] \u001B[38;5;28;01mfor\u001B[39;00m i \u001B[38;5;129;01min\u001B[39;00m \u001B[38;5;28mrange\u001B[39m(\u001B[38;5;241m8\u001B[39m)\n\u001B[0;32m     15\u001B[0m             ] \u001B[38;5;241m+\u001B[39m [\n\u001B[1;32m---> 16\u001B[0m                 \u001B[43mstruct\u001B[49m\u001B[38;5;241;43m.\u001B[39;49m\u001B[43munpack\u001B[49m\u001B[43m(\u001B[49m\u001B[38;5;124;43m\"\u001B[39;49m\u001B[38;5;124;43m<I\u001B[39;49m\u001B[38;5;124;43m\"\u001B[39;49m\u001B[43m,\u001B[49m\u001B[43m \u001B[49m\u001B[43mnonce\u001B[49m\u001B[43m[\u001B[49m\u001B[43mi\u001B[49m\u001B[43m \u001B[49m\u001B[38;5;241;43m*\u001B[39;49m\u001B[43m \u001B[49m\u001B[38;5;241;43m4\u001B[39;49m\u001B[43m:\u001B[49m\u001B[43mi\u001B[49m\u001B[43m \u001B[49m\u001B[38;5;241;43m*\u001B[39;49m\u001B[43m \u001B[49m\u001B[38;5;241;43m4\u001B[39;49m\u001B[43m \u001B[49m\u001B[38;5;241;43m+\u001B[39;49m\u001B[43m \u001B[49m\u001B[38;5;241;43m4\u001B[39;49m\u001B[43m]\u001B[49m\u001B[43m)\u001B[49m[\u001B[38;5;241m0\u001B[39m] \u001B[38;5;28;01mfor\u001B[39;00m i \u001B[38;5;129;01min\u001B[39;00m \u001B[38;5;28mrange\u001B[39m(\u001B[38;5;241m3\u001B[39m)\n\u001B[0;32m     17\u001B[0m             ] \u001B[38;5;241m+\u001B[39m [\u001B[38;5;241m0\u001B[39m]\n\u001B[0;32m     19\u001B[0m     x \u001B[38;5;241m=\u001B[39m state[:]\n\u001B[0;32m     21\u001B[0m     \u001B[38;5;28;01mfor\u001B[39;00m _ \u001B[38;5;129;01min\u001B[39;00m \u001B[38;5;28mrange\u001B[39m(ROUNDS \u001B[38;5;241m/\u001B[39m\u001B[38;5;241m/\u001B[39m \u001B[38;5;241m2\u001B[39m):\n",
      "\u001B[1;31merror\u001B[0m: unpack requires a buffer of 4 bytes"
     ]
    }
   ],
   "execution_count": 11
  }
 ],
 "metadata": {
  "kernelspec": {
   "display_name": "Python 3",
   "language": "python",
   "name": "python3"
  },
  "language_info": {
   "codemirror_mode": {
    "name": "ipython",
    "version": 2
   },
   "file_extension": ".py",
   "mimetype": "text/x-python",
   "name": "python",
   "nbconvert_exporter": "python",
   "pygments_lexer": "ipython2",
   "version": "2.7.6"
  }
 },
 "nbformat": 4,
 "nbformat_minor": 5
}
