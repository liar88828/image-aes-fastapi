{
 "cells": [
  {
   "cell_type": "code",
   "execution_count": null,
   "id": "initial_id",
   "metadata": {
    "collapsed": true
   },
   "outputs": [],
   "source": [
    ""
   ]
  },
  {
   "metadata": {
    "ExecuteTime": {
     "end_time": "2025-01-20T14:58:30.724650Z",
     "start_time": "2025-01-20T14:58:30.714674Z"
    }
   },
   "cell_type": "code",
   "source": "# range(0, 16, 4) [0, 4, 8, 12]",
   "id": "fd2fddb14dae266",
   "outputs": [
    {
     "data": {
      "text/plain": [
       "range(0, 16, 4)"
      ]
     },
     "execution_count": 1,
     "metadata": {},
     "output_type": "execute_result"
    }
   ],
   "execution_count": 1
  },
  {
   "metadata": {
    "ExecuteTime": {
     "end_time": "2025-01-20T15:03:39.668395Z",
     "start_time": "2025-01-20T15:03:39.662355Z"
    }
   },
   "cell_type": "code",
   "source": [
    "myBytes = b'\\x124Vx\\x90\\xab\\xcd\\xef\\xfe\\xdc\\xba\\x98vT2\\x10'\n",
    "len(myBytes)"
   ],
   "id": "2ed5e1f7322e8ed9",
   "outputs": [
    {
     "data": {
      "text/plain": [
       "16"
      ]
     },
     "execution_count": 3,
     "metadata": {},
     "output_type": "execute_result"
    }
   ],
   "execution_count": 3
  },
  {
   "metadata": {
    "ExecuteTime": {
     "end_time": "2025-01-22T06:19:25.102417Z",
     "start_time": "2025-01-22T06:19:25.080578Z"
    }
   },
   "cell_type": "code",
   "source": "4 % 4",
   "id": "2b022ef009223cc1",
   "outputs": [
    {
     "data": {
      "text/plain": [
       "0"
      ]
     },
     "execution_count": 1,
     "metadata": {},
     "output_type": "execute_result"
    }
   ],
   "execution_count": 1
  },
  {
   "metadata": {
    "ExecuteTime": {
     "end_time": "2025-01-25T12:25:08.686541Z",
     "start_time": "2025-01-25T12:25:08.673717Z"
    }
   },
   "cell_type": "code",
   "source": [
    "data = range(1, 10)\n",
    "\n",
    "print(data)  #[1, 2, 3, 4, 5, 6, 7, 8, 9]\n",
    "print(list(data))  #[1, 2, 3, 4, 5, 6, 7, 8, 9]"
   ],
   "id": "7af8e6e5680a6bf",
   "outputs": [
    {
     "name": "stdout",
     "output_type": "stream",
     "text": [
      "range(1, 10)\n"
     ]
    }
   ],
   "execution_count": 1
  },
  {
   "metadata": {},
   "cell_type": "code",
   "outputs": [],
   "execution_count": null,
   "source": [
    "\"\"\"\n",
    "10101001\n",
    "00101110\n",
    "--------\n",
    "10000111\n",
    "-\n",
    "10000111\n",
    "10010101\n",
    "--------\n",
    "00010010\n",
    "-\n",
    "00010010\n",
    "01100000\n",
    "--------\n",
    "01110010\n",
    "\n",
    "\"\"\""
   ],
   "id": "98e7189727fdec2d"
  },
  {
   "metadata": {
    "ExecuteTime": {
     "end_time": "2025-01-22T12:09:00.699510Z",
     "start_time": "2025-01-22T12:09:00.689672Z"
    }
   },
   "cell_type": "code",
   "source": [
    "a = [169, 46, 149, 96]\n",
    "t = a[0] ^ a[1] ^ a[2] ^ a[3]\n",
    "\n",
    "print(t)"
   ],
   "id": "8e6ecb74c44a4794",
   "outputs": [
    {
     "name": "stdout",
     "output_type": "stream",
     "text": [
      "114\n"
     ]
    }
   ],
   "execution_count": 3
  },
  {
   "metadata": {
    "ExecuteTime": {
     "end_time": "2025-01-22T12:44:30.896792Z",
     "start_time": "2025-01-22T12:44:30.882546Z"
    }
   },
   "cell_type": "code",
   "source": " # 46 ^ 114 ^ 37",
   "id": "2f5c776e2b5acecf",
   "outputs": [
    {
     "data": {
      "text/plain": [
       "121"
      ]
     },
     "execution_count": 4,
     "metadata": {},
     "output_type": "execute_result"
    }
   ],
   "execution_count": 4
  },
  {
   "metadata": {
    "ExecuteTime": {
     "end_time": "2025-01-24T10:22:10.951130Z",
     "start_time": "2025-01-24T10:22:10.946030Z"
    }
   },
   "cell_type": "code",
   "source": [
    "a = [1, 2, 3]\n",
    "b = ['x', 'y', 'z']\n",
    "zipped = zip(a, b)\n",
    "\n",
    "print(list(zipped))"
   ],
   "id": "bd8fc6f5d6935e83",
   "outputs": [
    {
     "name": "stdout",
     "output_type": "stream",
     "text": [
      "[(1, 'x'), (2, 'y'), (3, 'z')]\n"
     ]
    }
   ],
   "execution_count": 1
  },
  {
   "metadata": {
    "ExecuteTime": {
     "end_time": "2025-02-03T09:46:00.562227Z",
     "start_time": "2025-02-03T09:46:00.555352Z"
    }
   },
   "cell_type": "code",
   "source": [
    "def generate_r_con():\n",
    "    # Initialize the round constants array with the first element as 0x00\n",
    "    r_con = [0] * 32  # We need 32 round constants for AES (max 14 rounds, but 32 for all cases)\n",
    "    x = 0x02  # Primitive element in GF(2^8)\n",
    "\n",
    "    # Start with r_con[0] = 0x00\n",
    "    r_con[0] = 0x00\n",
    "    # The second round constant (r_con[1]) should be 0x01, manually set it\n",
    "    r_con[1] = 0x01\n",
    "\n",
    "    # Manually calculate subsequent round constants\n",
    "    for i in range(2, 32):\n",
    "        r_con[i] = r_con[i - 1] * x\n",
    "        # Apply modulo for x^8 + x^4 + x^3 + x + 1 (irreducible polynomial in GF(2^8))\n",
    "        if r_con[i] >= 0x100:\n",
    "            r_con[i] ^= 0x11B  # XOR with the irreducible polynomial 0x11B\n",
    "\n",
    "    return r_con\n",
    "\n",
    "\n",
    "# Generate round constants\n",
    "_r_con = generate_r_con()\n",
    "my_r_con = [hex(x) for x in _r_con]\n",
    "\n",
    "print(my_r_con)\n"
   ],
   "id": "6638f6f98b3e2a93",
   "outputs": [
    {
     "name": "stdout",
     "output_type": "stream",
     "text": [
      "['0x0', '0x1', '0x2', '0x4', '0x8', '0x10', '0x20', '0x40', '0x80', '0x1b', '0x36', '0x6c', '0xd8', '0xab', '0x4d', '0x9a', '0x2f', '0x5e', '0xbc', '0x63', '0xc6', '0x97', '0x35', '0x6a', '0xd4', '0xb3', '0x7d', '0xfa', '0xef', '0xc5', '0x91', '0x39']\n"
     ]
    }
   ],
   "execution_count": 8
  },
  {
   "metadata": {
    "ExecuteTime": {
     "end_time": "2025-02-03T09:51:01.640859Z",
     "start_time": "2025-02-03T09:51:01.633321Z"
    }
   },
   "cell_type": "code",
   "source": [
    "def generate_rcon():\n",
    "    \"\"\"\n",
    "    Generate AES round constants (r_con) using GF(2^8)\n",
    "    Returns a list of 32 round constants in hexadecimal format\n",
    "    \"\"\"\n",
    "    r_con = ['0x0']  # First element is always 0\n",
    "    value = 0x01  # Start with 1\n",
    "\n",
    "    # Generate the remaining 31 values\n",
    "    for i in range(31):\n",
    "        # Add current value to r_con\n",
    "        r_con.append(hex(value))\n",
    "\n",
    "        # Multiply by 2 in GF(2^8)\n",
    "        value = (value << 1) & 0xFF\n",
    "        # If MSB was 1, XOR with 0x1B (reduction polynomial)\n",
    "        if value & 0x100:\n",
    "            value ^= 0x11B\n",
    "\n",
    "    return r_con\n",
    "\n",
    "\n",
    "# Generate and verify r_con values\n",
    "r_con = generate_rcon()\n",
    "\n",
    "# Print formatted list for verification\n",
    "print('Round Constants (r_con):')\n",
    "print(r_con)\n",
    "\n",
    "# Verify against known values\n",
    "expected_rcon = [\n",
    "    '0x0', '0x1', '0x2', '0x4', '0x8', '0x10', '0x20', '0x40',\n",
    "    '0x80', '0x1b', '0x36', '0x6c', '0xd8', '0xab', '0x4d', '0x9a',\n",
    "    '0x2f', '0x5e', '0xbc', '0x63', '0xc6', '0x97', '0x35', '0x6a',\n",
    "    '0xd4', '0xb3', '0x7d', '0xfa', '0xef', '0xc5', '0x91', '0x39'\n",
    "]\n",
    "\n",
    "assert my_r_con == expected_rcon, \"Generated r_con doesn't match expected values\""
   ],
   "id": "467d22912977a413",
   "outputs": [
    {
     "name": "stdout",
     "output_type": "stream",
     "text": [
      "Round Constants (r_con):\n",
      "['0x0', '0x1', '0x2', '0x4', '0x8', '0x10', '0x20', '0x40', '0x80', '0x0', '0x0', '0x0', '0x0', '0x0', '0x0', '0x0', '0x0', '0x0', '0x0', '0x0', '0x0', '0x0', '0x0', '0x0', '0x0', '0x0', '0x0', '0x0', '0x0', '0x0', '0x0', '0x0']\n"
     ]
    }
   ],
   "execution_count": 12
  }
 ],
 "metadata": {
  "kernelspec": {
   "display_name": "Python 3",
   "language": "python",
   "name": "python3"
  },
  "language_info": {
   "codemirror_mode": {
    "name": "ipython",
    "version": 2
   },
   "file_extension": ".py",
   "mimetype": "text/x-python",
   "name": "python",
   "nbconvert_exporter": "python",
   "pygments_lexer": "ipython2",
   "version": "2.7.6"
  }
 },
 "nbformat": 4,
 "nbformat_minor": 5
}
