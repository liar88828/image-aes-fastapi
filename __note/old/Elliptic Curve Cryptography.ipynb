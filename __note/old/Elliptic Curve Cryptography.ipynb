{
 "cells": [
  {
   "metadata": {},
   "cell_type": "markdown",
   "source": [
    "##  Step 1: Define the Elliptic Curve Parameters\n",
    "We'll use a simple elliptic curve defined over a finite field:\n",
    "- Curve Equation = y^2 = x^3 + ax + b \n",
    "- Parameter a,b and a prime p\n"
   ],
   "id": "a37fce24b0ffb4f"
  },
  {
   "metadata": {
    "ExecuteTime": {
     "end_time": "2025-01-09T07:10:48.663969Z",
     "start_time": "2025-01-09T07:10:48.658395Z"
    }
   },
   "cell_type": "code",
   "source": [
    "import os\n",
    "\n",
    "# Elliptic Curve parameters\n",
    "a = 2\n",
    "b = 3\n",
    "p = 97  # A small prime number for simplicity\n",
    "\n",
    "\n",
    "# Check if a point is on the curve\n",
    "def is_point_on_curve(x, y):\n",
    "    return (y ** 2) % p == (x ** 3 + a * x + b) % p"
   ],
   "id": "473bd8ae64e4a50b",
   "outputs": [],
   "execution_count": 2
  },
  {
   "metadata": {},
   "cell_type": "markdown",
   "source": "",
   "id": "de1c9675884f20ea"
  },
  {
   "metadata": {
    "ExecuteTime": {
     "end_time": "2025-01-09T07:10:53.835596Z",
     "start_time": "2025-01-09T07:10:53.827440Z"
    }
   },
   "cell_type": "code",
   "source": [
    "# Point addition\n",
    "def point_add(P, Q):\n",
    "    if P == (0, 0):  # Identity point\n",
    "        return Q\n",
    "    if Q == (0, 0):  # Identity point\n",
    "        return P\n",
    "\n",
    "    x1, y1 = P\n",
    "    x2, y2 = Q\n",
    "\n",
    "    if x1 == x2 and y1 == -y2 % p:\n",
    "        return (0, 0)  # Point at infinity\n",
    "\n",
    "    if P != Q:\n",
    "        m = (y2 - y1) * pow(x2 - x1, p - 2, p) % p  # Modular inverse\n",
    "    else:\n",
    "        m = (3 * x1 ** 2 + a) * pow(2 * y1, p - 2, p) % p  # Derivative at P\n",
    "\n",
    "    x3 = (m ** 2 - x1 - x2) % p\n",
    "    y3 = (m * (x1 - x3) - y1) % p\n",
    "\n",
    "    return (x3, y3)\n",
    "\n",
    "\n",
    "# Scalar multiplication\n",
    "def scalar_multiply(k, P):\n",
    "    R = (0, 0)  # Identity point\n",
    "    while k:\n",
    "        if k & 1:  # If k is odd\n",
    "            R = point_add(R, P)\n",
    "        P = point_add(P, P)  # Double the point\n",
    "        k >>= 1\n",
    "    return R\n",
    "\n"
   ],
   "id": "b74823f39448a7e6",
   "outputs": [],
   "execution_count": 3
  },
  {
   "metadata": {},
   "cell_type": "markdown",
   "source": [
    "## Step 3: Key Generation\n",
    "\n",
    "Generate a public/private key pair:"
   ],
   "id": "28e4296973596e3c"
  },
  {
   "metadata": {
    "ExecuteTime": {
     "end_time": "2025-01-09T07:10:57.927611Z",
     "start_time": "2025-01-09T07:10:57.923757Z"
    }
   },
   "cell_type": "code",
   "source": [
    "\n",
    "\n",
    "def generate_keypair():\n",
    "    private_key = int.from_bytes(os.urandom(32), byteorder='big') % (p - 1)  # Private key\n",
    "    G = (3, 6)  # Example generator point on the curve\n",
    "    public_key = scalar_multiply(private_key, G)  # Public key\n",
    "    return private_key, public_key\n"
   ],
   "id": "e2749ea95af17af5",
   "outputs": [],
   "execution_count": 4
  },
  {
   "metadata": {},
   "cell_type": "markdown",
   "source": [
    "## Step 4: Encrypt and Decrypt a Message\n",
    "\n",
    "We'll implement a simple message encryption scheme using the shared secret generated from the public key"
   ],
   "id": "d67b6f26542318f1"
  },
  {
   "metadata": {
    "ExecuteTime": {
     "end_time": "2025-01-09T07:11:00.492761Z",
     "start_time": "2025-01-09T07:11:00.479747Z"
    }
   },
   "cell_type": "code",
   "source": [
    "\n",
    "def encrypt(message, public_key):\n",
    "    G = (3, 6)  # Generator point\n",
    "    k = int.from_bytes(os.urandom(32), byteorder='big') % (p - 1)  # Random scalar\n",
    "\n",
    "    C1 = scalar_multiply(k, G)  # C1 = kG\n",
    "    C2 = scalar_multiply(k, public_key)  # C2 = kP (shared secret)\n",
    "\n",
    "    # Encrypt the message (simple XOR for demonstration)\n",
    "    encrypted_message = bytes((m ^ C2[0]) % 256 for m in message)\n",
    "    return C1, encrypted_message\n",
    "\n",
    "\n",
    "def decrypt(ciphertext, private_key):\n",
    "    C1, encrypted_message = ciphertext\n",
    "    C2 = scalar_multiply(private_key, C1)  # C2 = dC1 (shared secret)\n",
    "\n",
    "    # Decrypt the message\n",
    "    decrypted_message = bytes((em ^ C2[0]) % 256 for em in encrypted_message)\n",
    "    return decrypted_message\n",
    "\n"
   ],
   "id": "1095fe695f1d6ce2",
   "outputs": [],
   "execution_count": 5
  },
  {
   "metadata": {},
   "cell_type": "markdown",
   "source": [
    "## Step 5: Putting It All Together\n",
    "\n",
    "Now, we can create a main function to demonstrate the whole process:"
   ],
   "id": "9cea309be0c670a4"
  },
  {
   "metadata": {
    "ExecuteTime": {
     "end_time": "2025-01-09T07:11:03.244345Z",
     "start_time": "2025-01-09T07:11:03.233261Z"
    }
   },
   "cell_type": "code",
   "source": [
    "\n",
    "def main():\n",
    "    # Key generation\n",
    "    private_key, public_key = generate_keypair()\n",
    "    print(f\"Private Key: {private_key}\")\n",
    "    print(f\"Public Key: {public_key}\")\n",
    "\n",
    "    # Message to encrypt\n",
    "    message = b\"Hello, this is a secret message!\"\n",
    "\n",
    "    # Encrypt the message\n",
    "    ciphertext = encrypt(message, public_key)\n",
    "    print(f\"Ciphertext: {ciphertext}\")\n",
    "\n",
    "    # Decrypt the message\n",
    "    decrypted_message = decrypt(ciphertext, private_key)\n",
    "    print(f\"Decrypted Message: {decrypted_message.decode()}\")\n",
    "\n",
    "\n",
    "if __name__ == \"__main__\":\n",
    "    main()"
   ],
   "id": "aeb13ad61205b0d2",
   "outputs": [
    {
     "name": "stdout",
     "output_type": "stream",
     "text": [
      "Private Key: 42\n",
      "Public Key: (80, 10)\n",
      "Ciphertext: ((3, 6), b'\\x185<<?|p$89#p9#p1p#53\"5$p=5##175q')\n",
      "Decrypted Message: Hello, this is a secret message!\n"
     ]
    }
   ],
   "execution_count": 6
  }
 ],
 "metadata": {
  "kernelspec": {
   "display_name": "Python 3",
   "language": "python",
   "name": "python3"
  },
  "language_info": {
   "codemirror_mode": {
    "name": "ipython",
    "version": 2
   },
   "file_extension": ".py",
   "mimetype": "text/x-python",
   "name": "python",
   "nbconvert_exporter": "python",
   "pygments_lexer": "ipython2",
   "version": "2.7.6"
  }
 },
 "nbformat": 4,
 "nbformat_minor": 5
}
